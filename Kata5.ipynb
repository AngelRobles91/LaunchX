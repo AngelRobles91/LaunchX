{
 "cells": [
  {
   "cell_type": "markdown",
   "metadata": {},
   "source": [
    "Ejercicio: 1 Distancia entre la tierra y jupiter"
   ]
  },
  {
   "cell_type": "code",
   "execution_count": 7,
   "metadata": {},
   "outputs": [
    {
     "name": "stdout",
     "output_type": "stream",
     "text": [
      "628949330\n",
      "39057753.393\n"
     ]
    }
   ],
   "source": [
    "tierra= 149597870\n",
    "jupiter = 778547200\n",
    "distancia = abs(tierra-jupiter)\n",
    "millas= distancia * .0621\n",
    "print(distancia)\n",
    "print (millas)"
   ]
  },
  {
   "cell_type": "markdown",
   "metadata": {},
   "source": [
    "Ejercicio 2:\n",
    "convierte cadenas en números y usa valores absolutos"
   ]
  },
  {
   "cell_type": "code",
   "execution_count": 2,
   "metadata": {},
   "outputs": [
    {
     "name": "stdout",
     "output_type": "stream",
     "text": [
      "2998\n",
      "1861.758\n"
     ]
    }
   ],
   "source": [
    "sol = input(\"¿Cuál es la distancia del sol?\")\n",
    "planeta = input(\"¿Cuál es la distancia del planeta?\")\n",
    "sol= int(sol)\n",
    "planeta=int(planeta)\n",
    "distan=planeta-sol\n",
    "print(distan)\n",
    "distmi=distan*.621\n",
    "print(abs(distmi))"
   ]
  }
 ],
 "metadata": {
  "interpreter": {
   "hash": "a6ff00161f95b8763718a3bc4fc118927f146393ed7e9f139f2cc4766016918c"
  },
  "kernelspec": {
   "display_name": "Python 3.10.2 64-bit",
   "language": "python",
   "name": "python3"
  },
  "language_info": {
   "codemirror_mode": {
    "name": "ipython",
    "version": 3
   },
   "file_extension": ".py",
   "mimetype": "text/x-python",
   "name": "python",
   "nbconvert_exporter": "python",
   "pygments_lexer": "ipython3",
   "version": "3.10.2"
  },
  "orig_nbformat": 4
 },
 "nbformat": 4,
 "nbformat_minor": 2
}
